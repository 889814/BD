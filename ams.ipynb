{
 "cells": [
  {
   "cell_type": "code",
   "execution_count": 32,
   "id": "b5781aac-cefb-430e-8608-68d4dd7992ac",
   "metadata": {},
   "outputs": [
    {
     "name": "stdout",
     "output_type": "stream",
     "text": [
      "3 2\n",
      "4 2\n",
      "3 1\n",
      "Surprise Number: 21.0\n"
     ]
    }
   ],
   "source": [
    "stream = [3, 1, 4, 1, 3, 4, 2, 1, 2]\n",
    "x = [1, 3, 5]\n",
    "\n",
    "def surprise_number(stream, x):\n",
    "    total_surprise_value = 0\n",
    "    count = 0\n",
    "\n",
    "    for i in x:\n",
    "        if i < len(stream):  # Ensure that the index is within the bounds of the stream\n",
    "            x_ele = stream[i-1]  # Get the value from the stream using the index\n",
    "            x_value = stream[i-1:].count(x_ele) \n",
    "            n = len(stream)\n",
    "            surprise_value = n * (2 * x_value - 1)  # Calculate the surprise value\n",
    "            total_surprise_value += surprise_value  # Accumulate total surprise value\n",
    "            count += 1  # Increment count for valid values\n",
    "            print(x_ele, x_value)\n",
    "    \n",
    "    # Calculate average surprise number\n",
    "    average_surprise_number = total_surprise_value / len(x)\n",
    "    return average_surprise_number\n",
    "\n",
    "    \n",
    "surprise_num = surprise_number(stream, x)\n",
    "print(f\"Surprise Number: {surprise_num}\") "
   ]
  },
  {
   "cell_type": "code",
   "execution_count": 35,
   "id": "3eaa35c8-a8fe-415e-8cb4-637f69472b75",
   "metadata": {},
   "outputs": [
    {
     "name": "stdin",
     "output_type": "stream",
     "text": [
      "Enter the no of elements to be inserted: 6\n",
      "Enter element 2\n",
      "Enter element 5\n",
      "Enter element 8\n",
      "Enter element 6\n",
      "Enter element 3\n",
      "Enter element 4\n"
     ]
    },
    {
     "name": "stdout",
     "output_type": "stream",
     "text": [
      "Inserted elements\n",
      ": [2, 5, 8, 6, 3, 4]\n",
      "x1: 2\n",
      "x2: 5\n",
      "x3: 6\n",
      "Occurance of 2: [1] Count: 1\n",
      "Occurance of 5: [1] Count: 1\n",
      "Occurance of 6: [1] Count: 1\n",
      "1\n",
      "6\n",
      "6\n",
      "6\n",
      "6.0\n"
     ]
    }
   ],
   "source": [
    "#AMS algorithm\n",
    "insert_no=int(input('Enter the no of elements to be inserted:'))\n",
    "insert_list=[]\n",
    "for i in range(insert_no):\n",
    "    insert_list.append(int(input('Enter element')))\n",
    "print('Inserted elements\\n:',insert_list)\n",
    "\n",
    "x1=1\n",
    "x2=2\n",
    "x3=4\n",
    "\n",
    "x1new=insert_list[x1-1]\n",
    "x2new=insert_list[x2-1]\n",
    "x3new=insert_list[x3-1]\n",
    "print('x1:',x1new)\n",
    "print('x2:',x2new)\n",
    "print('x3:',x3new)\n",
    "\n",
    "\n",
    "\n",
    "def repeated(x,arr):\n",
    "    list=[]\n",
    "    count=0\n",
    "    for i in arr:\n",
    "        if x==i:\n",
    "            count=count+1\n",
    "            list.append(int(1))\n",
    "    print(f\"Occurance of {x}:\",list,\"Count:\",count)\n",
    "    return count\n",
    "\n",
    "\n",
    "r1=repeated(x1new,insert_list)\n",
    "r2=repeated(x2new,insert_list)\n",
    "r3=repeated(x3new,insert_list)\n",
    "\n",
    "print(r1)\n",
    "\n",
    "def hash(n,r):\n",
    "    return (2*r-1)*n\n",
    "x1hash=hash(insert_no,r1)\n",
    "x2hash=hash(insert_no,r2)\n",
    "x3hash=hash(insert_no,r3)\n",
    "print(x1hash)\n",
    "print(x2hash)\n",
    "print(x3hash)\n",
    "\n",
    "surprise_no=(x1hash+x2hash+x3hash)/3\n",
    "print(surprise_no)"
   ]
  }
 ],
 "metadata": {
  "kernelspec": {
   "display_name": "Python 3 (ipykernel)",
   "language": "python",
   "name": "python3"
  },
  "language_info": {
   "codemirror_mode": {
    "name": "ipython",
    "version": 3
   },
   "file_extension": ".py",
   "mimetype": "text/x-python",
   "name": "python",
   "nbconvert_exporter": "python",
   "pygments_lexer": "ipython3",
   "version": "3.11.5"
  }
 },
 "nbformat": 4,
 "nbformat_minor": 5
}
