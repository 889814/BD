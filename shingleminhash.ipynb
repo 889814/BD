{
  "cells": [
    {
      "cell_type": "code",
      "execution_count": 1,
      "id": "c4eeccab-e130-4055-9faa-5b270abf2dfd",
      "metadata": {
        "id": "c4eeccab-e130-4055-9faa-5b270abf2dfd",
        "outputId": "fd94f106-46c6-4d26-b391-5802f253ae66",
        "colab": {
          "base_uri": "https://localhost:8080/"
        }
      },
      "outputs": [
        {
          "output_type": "stream",
          "name": "stdout",
          "text": [
            "353\n",
            "                                   Row  Document 1  Document 2  Document 3\n",
            "scoringonerunforeach                 0         0.0         1.0         0.0\n",
            "Baseballisabatandballsport           1         0.0         0.0         1.0\n",
            "onafieldatthe                        2         0.0         1.0         0.0\n",
            "withabatTheobjective                 3         0.0         0.0         1.0\n",
            "beachcricketcorridorcricketgarden    4         1.0         0.0         0.0\n",
            "...                                ...         ...         ...         ...\n",
            "aroundfourbasestoscore             348         0.0         0.0         1.0\n",
            "subcontinentandboxcricketin        349         1.0         0.0         0.0\n",
            "withthebatandthen                  350         0.0         1.0         0.0\n",
            "holdingbatswithoneplayer           351         0.0         1.0         0.0\n",
            "torunthebaseshaving                352         0.0         0.0         1.0\n",
            "\n",
            "[353 rows x 4 columns]\n"
          ]
        }
      ],
      "source": [
        "import string\n",
        "import numpy as np\n",
        "import pandas as pd\n",
        "def read_file(file_path):\n",
        "    with open(file_path,'r') as file:\n",
        "        text=file.read()\n",
        "    return text\n",
        "\n",
        "\n",
        "def remove_punctuation(text):\n",
        "    translator=str.maketrans('','',string.punctuation)\n",
        "    cleaned_text=text.translate(translator)\n",
        "    words=cleaned_text.split()\n",
        "    return words\n",
        "\n",
        "\n",
        "\n",
        "def generate_k_shingles(words,k):\n",
        "    k_shingles=[''.join(words[i:i+k]) for i in range(len(words)-k+1)]\n",
        "    return k_shingles\n",
        "\n",
        "k=5\n",
        "file_path1='/content/Backyard cricket.txt'\n",
        "text1=read_file(file_path1)\n",
        "words1=remove_punctuation(text1)\n",
        "shingles1=generate_k_shingles(words1,k)\n",
        "\n",
        "\n",
        "file_path2='/content/Cricket.txt'\n",
        "text2=read_file(file_path2)\n",
        "words2=remove_punctuation(text2)\n",
        "shingles2=generate_k_shingles(words2,k)\n",
        "\n",
        "file_path3='/content/Baseball.txt'\n",
        "text3=read_file(file_path3)\n",
        "words3=remove_punctuation(text3)\n",
        "shingles3=generate_k_shingles(words3,k)\n",
        "\n",
        "all_shingles=shingles1+shingles2+shingles3\n",
        "\n",
        "\n",
        "\n",
        "# Step 1: Combine all shingles and find unique shingles\n",
        "unique_shingles = list(set(all_shingles))\n",
        "print(len(unique_shingles))\n",
        "# Step 2: Initialize an empty incidence matrix\n",
        "incidence_matrix = np.zeros((len(unique_shingles), 3))\n",
        "\n",
        "# Step 3: Populate the incidence matrix\n",
        "for i, shingle in enumerate(unique_shingles):\n",
        "    if shingle in shingles1:\n",
        "        incidence_matrix[i, 0] = 1  # Document 1\n",
        "    if shingle in shingles2:\n",
        "        incidence_matrix[i, 1] = 1  # Document 2\n",
        "    if shingle in shingles3:\n",
        "        incidence_matrix[i, 2] = 1  # Document 3\n",
        "\n",
        "# Step 4: Create a DataFrame for better visualization (optional)\n",
        "incidence_df = pd.DataFrame(incidence_matrix, index=unique_shingles, columns=[\"Document 1\", \"Document 2\", \"Document 3\"])\n",
        "incidence_df.insert(0,\"Row\",range(0,len(unique_shingles)))\n",
        "# Print the incidence matrix\n",
        "print(incidence_df)\n",
        "\n"
      ]
    },
    {
      "cell_type": "code",
      "execution_count": 2,
      "id": "7e50527c-6e75-456a-ab00-d2723eb97a18",
      "metadata": {
        "id": "7e50527c-6e75-456a-ab00-d2723eb97a18",
        "outputId": "e376ed53-fe4b-443f-97b3-e14cb6d3775e",
        "colab": {
          "base_uri": "https://localhost:8080/"
        }
      },
      "outputs": [
        {
          "output_type": "stream",
          "name": "stdout",
          "text": [
            "                                   Row  Document 1  Document 2  Document 3  \\\n",
            "scoringonerunforeach                 0         0.0         1.0         0.0   \n",
            "Baseballisabatandballsport           1         0.0         0.0         1.0   \n",
            "onafieldatthe                        2         0.0         1.0         0.0   \n",
            "withabatTheobjective                 3         0.0         0.0         1.0   \n",
            "beachcricketcorridorcricketgarden    4         1.0         0.0         0.0   \n",
            "...                                ...         ...         ...         ...   \n",
            "aroundfourbasestoscore             348         0.0         0.0         1.0   \n",
            "subcontinentandboxcricketin        349         1.0         0.0         0.0   \n",
            "withthebatandthen                  350         0.0         1.0         0.0   \n",
            "holdingbatswithoneplayer           351         0.0         1.0         0.0   \n",
            "torunthebaseshaving                352         0.0         0.0         1.0   \n",
            "\n",
            "                                    h1   h2  \n",
            "scoringonerunforeach                 1    5  \n",
            "Baseballisabatandballsport           2    7  \n",
            "onafieldatthe                        3    9  \n",
            "withabatTheobjective                 4   11  \n",
            "beachcricketcorridorcricketgarden    5   13  \n",
            "...                                ...  ...  \n",
            "aroundfourbasestoscore             349  701  \n",
            "subcontinentandboxcricketin        350  703  \n",
            "withthebatandthen                  351  705  \n",
            "holdingbatswithoneplayer           352  707  \n",
            "torunthebaseshaving                353  709  \n",
            "\n",
            "[353 rows x 6 columns]\n"
          ]
        }
      ],
      "source": [
        "#apply Hash Function\n",
        "incidence_df['h1'] = (incidence_df['Row']+1) % 1000\n",
        "incidence_df['h2'] = (2 * incidence_df['Row']+5) % 1000\n",
        "\n",
        "incidence_df = incidence_df.sort_values(by=['h1','h2'])\n",
        "\n",
        "print(incidence_df)"
      ]
    },
    {
      "cell_type": "code",
      "execution_count": 3,
      "id": "4d207e50-ab26-452d-827b-a3e6625e50e9",
      "metadata": {
        "id": "4d207e50-ab26-452d-827b-a3e6625e50e9",
        "outputId": "fd9ffd98-0c22-417c-d25b-266da956a2d4",
        "colab": {
          "base_uri": "https://localhost:8080/"
        }
      },
      "outputs": [
        {
          "output_type": "stream",
          "name": "stdout",
          "text": [
            "[[inf inf inf]\n",
            " [inf inf inf]]\n",
            "[[ 5.  1.  2.]\n",
            " [13.  5.  7.]]\n",
            "\n",
            "signature_matrix :\n",
            "\n",
            "    Document 1  Document 2  Document 3\n",
            "h1         5.0         1.0         2.0\n",
            "h2        13.0         5.0         7.0\n"
          ]
        }
      ],
      "source": [
        "num_hashes = 2\n",
        "num_docs = 3\n",
        "signature_matrix = np.full((num_hashes, num_docs), np.inf)\n",
        "print(signature_matrix)\n",
        "\n",
        "for i in range(len(unique_shingles)):\n",
        "    if incidence_df.iloc[i, 1] == 1:  # Document 1\n",
        "        signature_matrix[0, 0] = min(signature_matrix[0, 0], incidence_df.iloc[i]['h1'])\n",
        "        signature_matrix[1, 0] = min(signature_matrix[1, 0], incidence_df.iloc[i]['h2'])\n",
        "    if incidence_df.iloc[i, 2] == 1:  # Document 2\n",
        "        signature_matrix[0, 1] = min(signature_matrix[0, 1], incidence_df.iloc[i]['h1'])\n",
        "        signature_matrix[1, 1] = min(signature_matrix[1, 1], incidence_df.iloc[i]['h2'])\n",
        "    if incidence_df.iloc[i, 3] == 1:  # Document 3\n",
        "        signature_matrix[0, 2] = min(signature_matrix[0, 2], incidence_df.iloc[i]['h1'])\n",
        "        signature_matrix[1, 2] = min(signature_matrix[1, 2], incidence_df.iloc[i]['h2'])\n",
        "print(signature_matrix)\n",
        "\n",
        "signature_df = pd.DataFrame(signature_matrix, index=['h1', 'h2'], columns=[\"Document 1\", \"Document 2\", \"Document 3\"])\n",
        "print(\"\\nsignature_matrix :\\n\")\n",
        "print(signature_df)"
      ]
    },
    {
      "cell_type": "code",
      "execution_count": null,
      "id": "dea794f1-d812-4033-a7ef-d0b22402fbfa",
      "metadata": {
        "id": "dea794f1-d812-4033-a7ef-d0b22402fbfa"
      },
      "outputs": [],
      "source": []
    }
  ],
  "metadata": {
    "kernelspec": {
      "display_name": "Python 3 (ipykernel)",
      "language": "python",
      "name": "python3"
    },
    "language_info": {
      "codemirror_mode": {
        "name": "ipython",
        "version": 3
      },
      "file_extension": ".py",
      "mimetype": "text/x-python",
      "name": "python",
      "nbconvert_exporter": "python",
      "pygments_lexer": "ipython3",
      "version": "3.11.7"
    },
    "colab": {
      "provenance": []
    }
  },
  "nbformat": 4,
  "nbformat_minor": 5
}