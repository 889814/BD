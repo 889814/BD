{
 "cells": [
  {
   "cell_type": "code",
   "execution_count": 22,
   "id": "1da305f5-73c2-48c1-a0c8-b2c8fce3e85f",
   "metadata": {},
   "outputs": [],
   "source": [
    "import numpy as np\n",
    "\n",
    "def h1(x):\n",
    "    return (x + 1) % 13\n",
    "\n",
    "def h2(x):\n",
    "    return (2*x + 5) % 13"
   ]
  },
  {
   "cell_type": "code",
   "execution_count": 23,
   "id": "4d660750-d7ef-4575-acf4-1b22b07d3fbd",
   "metadata": {},
   "outputs": [
    {
     "name": "stdin",
     "output_type": "stream",
     "text": [
      "Enter the size of bloom filter: 13\n"
     ]
    },
    {
     "name": "stdout",
     "output_type": "stream",
     "text": [
      "Initial bloom filter:\n",
      " [0 0 0 0 0 0 0 0 0 0 0 0 0]\n"
     ]
    }
   ],
   "source": [
    "size_of_bloom = int(input(\"Enter the size of bloom filter:\"))\n",
    "bloom = np.zeros(size_of_bloom, dtype = int)\n",
    "print(\"Initial bloom filter:\\n\", bloom)"
   ]
  },
  {
   "cell_type": "code",
   "execution_count": 24,
   "id": "066be6f0-3606-4ed9-974b-f3667ec23297",
   "metadata": {},
   "outputs": [
    {
     "name": "stdin",
     "output_type": "stream",
     "text": [
      "Enter the number of elements to be inserted:\n",
      " 5\n",
      "Enter the element to be inserted: 8\n",
      "Enter the element to be inserted: 17\n",
      "Enter the element to be inserted: 14\n",
      "Enter the element to be inserted: 20\n",
      "Enter the element to be inserted: 25\n"
     ]
    },
    {
     "name": "stdout",
     "output_type": "stream",
     "text": [
      "Elements that are to be inserted are:\n",
      " [8, 17, 14, 20, 25]\n"
     ]
    }
   ],
   "source": [
    "no_of_elements = int(input(\"Enter the number of elements to be inserted:\\n\"))\n",
    "elements_list = []\n",
    "for i in range(no_of_elements):\n",
    "    elements_list.append(int(input(\"Enter the element to be inserted:\")))\n",
    "print(\"Elements that are to be inserted are:\\n\", elements_list)"
   ]
  },
  {
   "cell_type": "code",
   "execution_count": 25,
   "id": "f4e959de-9200-4395-9bf4-07b6c6555691",
   "metadata": {},
   "outputs": [
    {
     "name": "stdout",
     "output_type": "stream",
     "text": [
      "The bloom filter is:\n",
      " [1 0 1 1 0 1 1 1 1 1 0 0 0]\n"
     ]
    }
   ],
   "source": [
    "for i in elements_list:\n",
    "    bloom[h1(i)] = 1\n",
    "    bloom[h2(i)] = 1\n",
    "print(\"The bloom filter is:\\n\", bloom)"
   ]
  },
  {
   "cell_type": "code",
   "execution_count": 26,
   "id": "7247f750-8980-4b93-b44a-d449a23823ed",
   "metadata": {},
   "outputs": [
    {
     "name": "stdin",
     "output_type": "stream",
     "text": [
      "Enter the number of elements whose presence has to be checked:\n",
      " 3\n",
      "Enter the element to be inserted: 5\n",
      "Enter the element to be inserted: 7\n",
      "Enter the element to be inserted: 25\n"
     ]
    },
    {
     "name": "stdout",
     "output_type": "stream",
     "text": [
      "Elements whose presence has to be checked:\n",
      " [5, 7, 25]\n"
     ]
    }
   ],
   "source": [
    "no_of_elements_to_be_checked = int(input(\"Enter the number of elements whose presence has to be checked:\\n\"))\n",
    "check_list = []\n",
    "for i in range(no_of_elements_to_be_checked):\n",
    "    check_list.append(int(input(\"Enter the element to be inserted:\")))\n",
    "print(\"Elements whose presence has to be checked:\\n\", check_list)"
   ]
  },
  {
   "cell_type": "code",
   "execution_count": 28,
   "id": "f4494d36-fce6-4e98-8d6c-6023f5bbb0e1",
   "metadata": {},
   "outputs": [
    {
     "name": "stdout",
     "output_type": "stream",
     "text": [
      "5 is present\n",
      "FALSE POSITIVE\n",
      "7 is present\n",
      "FALSE POSITIVE\n",
      "25 is present\n",
      "TRUE POSITIVE\n"
     ]
    }
   ],
   "source": [
    "for i in check_list:\n",
    "    if bloom[h1(i)] == 1 & bloom[h2(i)] == 1:\n",
    "        print(i, \"is present\")\n",
    "        if i in elements_list:\n",
    "            print(\"The result is TRUE POSITIVE\")\n",
    "        else:\n",
    "            print(\"The result is FALSE POSITIVE\")\n",
    "    else:\n",
    "        print(i, \"is absent\")"
   ]
  }
 ],
 "metadata": {
  "kernelspec": {
   "display_name": "Python 3 (ipykernel)",
   "language": "python",
   "name": "python3"
  },
  "language_info": {
   "codemirror_mode": {
    "name": "ipython",
    "version": 3
   },
   "file_extension": ".py",
   "mimetype": "text/x-python",
   "name": "python",
   "nbconvert_exporter": "python",
   "pygments_lexer": "ipython3",
   "version": "3.11.5"
  }
 },
 "nbformat": 4,
 "nbformat_minor": 5
}
