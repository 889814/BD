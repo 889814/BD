{
  "cells": [
    {
      "cell_type": "code",
      "execution_count": null,
      "id": "c4eeccab-e130-4055-9faa-5b270abf2dfd",
      "metadata": {
        "id": "c4eeccab-e130-4055-9faa-5b270abf2dfd",
        "outputId": "fd94f106-46c6-4d26-b391-5802f253ae66",
        "colab": {
          "base_uri": "https://localhost:8080/"
        }
      },
      "outputs": [
        {
          "output_type": "stream",
          "name": "stdout",
          "text": [
            "353\n",
            "                                   Row  Document 1  Document 2  Document 3\n",
            "scoringonerunforeach                 0         0.0         1.0         0.0\n",
            "Baseballisabatandballsport           1         0.0         0.0         1.0\n",
            "onafieldatthe                        2         0.0         1.0         0.0\n",
            "withabatTheobjective                 3         0.0         0.0         1.0\n",
            "beachcricketcorridorcricketgarden    4         1.0         0.0         0.0\n",
            "...                                ...         ...         ...         ...\n",
            "aroundfourbasestoscore             348         0.0         0.0         1.0\n",
            "subcontinentandboxcricketin        349         1.0         0.0         0.0\n",
            "withthebatandthen                  350         0.0         1.0         0.0\n",
            "holdingbatswithoneplayer           351         0.0         1.0         0.0\n",
            "torunthebaseshaving                352         0.0         0.0         1.0\n",
            "\n",
            "[353 rows x 4 columns]\n"
          ]
        }
      ],
      "source": [
        "import string\n",
        "import numpy as np\n",
        "import pandas as pd\n",
        "def read_file(file_path):\n",
        "    with open(file_path,'r') as file:\n",
        "        text=file.read()\n",
        "    return text\n",
        "\n",
        "\n",
        "def remove_punctuation(text):\n",
        "    translator=str.maketrans('','',string.punctuation)\n",
        "    cleaned_text=text.translate(translator)\n",
        "    words=cleaned_text.split()\n",
        "    return words\n",
        "\n",
        "\n",
        "\n",
        "def generate_k_shingles(words,k):\n",
        "    k_shingles=[''.join(words[i:i+k]) for i in range(len(words)-k+1)]\n",
        "    return k_shingles\n",
        "\n",
        "k=5\n",
        "file_path1='/content/Backyard cricket.txt'\n",
        "text1=read_file(file_path1)\n",
        "words1=remove_punctuation(text1)\n",
        "shingles1=generate_k_shingles(words1,k)\n",
        "\n",
        "\n",
        "file_path2='/content/Cricket.txt'\n",
        "text2=read_file(file_path2)\n",
        "words2=remove_punctuation(text2)\n",
        "shingles2=generate_k_shingles(words2,k)\n",
        "\n",
        "file_path3='/content/Baseball.txt'\n",
        "text3=read_file(file_path3)\n",
        "words3=remove_punctuation(text3)\n",
        "shingles3=generate_k_shingles(words3,k)\n",
        "\n",
        "all_shingles=shingles1+shingles2+shingles3\n",
        "\n",
        "\n",
        "\n",
        "# Step 1: Combine all shingles and find unique shingles\n",
        "unique_shingles = list(set(all_shingles))\n",
        "print(len(unique_shingles))\n",
        "# Step 2: Initialize an empty incidence matrix\n",
        "incidence_matrix = np.zeros((len(unique_shingles), 3))\n",
        "\n",
        "# Step 3: Populate the incidence matrix\n",
        "for i, shingle in enumerate(unique_shingles):\n",
        "    if shingle in shingles1:\n",
        "        incidence_matrix[i, 0] = 1  # Document 1\n",
        "    if shingle in shingles2:\n",
        "        incidence_matrix[i, 1] = 1  # Document 2\n",
        "    if shingle in shingles3:\n",
        "        incidence_matrix[i, 2] = 1  # Document 3\n",
        "\n",
        "# Step 4: Create a DataFrame for better visualization (optional)\n",
        "incidence_df = pd.DataFrame(incidence_matrix, index=unique_shingles, columns=[\"Document 1\", \"Document 2\", \"Document 3\"])\n",
        "incidence_df.insert(0,\"Row\",range(0,len(unique_shingles)))\n",
        "# Print the incidence matrix\n",
        "print(incidence_df)\n",
        "\n"
      ]
    },
    {
      "cell_type": "code",
      "execution_count": null,
      "id": "7e50527c-6e75-456a-ab00-d2723eb97a18",
      "metadata": {
        "id": "7e50527c-6e75-456a-ab00-d2723eb97a18",
        "outputId": "e376ed53-fe4b-443f-97b3-e14cb6d3775e",
        "colab": {
          "base_uri": "https://localhost:8080/"
        }
      },
      "outputs": [
        {
          "output_type": "stream",
          "name": "stdout",
          "text": [
            "                                   Row  Document 1  Document 2  Document 3  \\\n",
            "scoringonerunforeach                 0         0.0         1.0         0.0   \n",
            "Baseballisabatandballsport           1         0.0         0.0         1.0   \n",
            "onafieldatthe                        2         0.0         1.0         0.0   \n",
            "withabatTheobjective                 3         0.0         0.0         1.0   \n",
            "beachcricketcorridorcricketgarden    4         1.0         0.0         0.0   \n",
            "...                                ...         ...         ...         ...   \n",
            "aroundfourbasestoscore             348         0.0         0.0         1.0   \n",
            "subcontinentandboxcricketin        349         1.0         0.0         0.0   \n",
            "withthebatandthen                  350         0.0         1.0         0.0   \n",
            "holdingbatswithoneplayer           351         0.0         1.0         0.0   \n",
            "torunthebaseshaving                352         0.0         0.0         1.0   \n",
            "\n",
            "                                    h1   h2  \n",
            "scoringonerunforeach                 1    5  \n",
            "Baseballisabatandballsport           2    7  \n",
            "onafieldatthe                        3    9  \n",
            "withabatTheobjective                 4   11  \n",
            "beachcricketcorridorcricketgarden    5   13  \n",
            "...                                ...  ...  \n",
            "aroundfourbasestoscore             349  701  \n",
            "subcontinentandboxcricketin        350  703  \n",
            "withthebatandthen                  351  705  \n",
            "holdingbatswithoneplayer           352  707  \n",
            "torunthebaseshaving                353  709  \n",
            "\n",
            "[353 rows x 6 columns]\n"
          ]
        }
      ],
      "source": [
        "#apply Hash Function\n",
        "incidence_df['h1'] = (incidence_df['Row']+1) % 1000\n",
        "incidence_df['h2'] = (2 * incidence_df['Row']+5) % 1000\n",
        "\n",
        "incidence_df = incidence_df.sort_values(by=['h1','h2'])\n",
        "\n",
        "print(incidence_df)"
      ]
    },
    {
      "cell_type": "code",
      "execution_count": null,
      "id": "4d207e50-ab26-452d-827b-a3e6625e50e9",
      "metadata": {
        "id": "4d207e50-ab26-452d-827b-a3e6625e50e9",
        "outputId": "fd9ffd98-0c22-417c-d25b-266da956a2d4",
        "colab": {
          "base_uri": "https://localhost:8080/"
        }
      },
      "outputs": [
        {
          "output_type": "stream",
          "name": "stdout",
          "text": [
            "[[inf inf inf]\n",
            " [inf inf inf]]\n",
            "[[ 5.  1.  2.]\n",
            " [13.  5.  7.]]\n",
            "\n",
            "signature_matrix :\n",
            "\n",
            "    Document 1  Document 2  Document 3\n",
            "h1         5.0         1.0         2.0\n",
            "h2        13.0         5.0         7.0\n"
          ]
        }
      ],
      "source": [
        "num_hashes = 2\n",
        "num_docs = 3\n",
        "signature_matrix = np.full((num_hashes, num_docs), np.inf)\n",
        "print(signature_matrix)\n",
        "\n",
        "for i in range(len(unique_shingles)):\n",
        "    if incidence_df.iloc[i, 1] == 1:  # Document 1\n",
        "        signature_matrix[0, 0] = min(signature_matrix[0, 0], incidence_df.iloc[i]['h1'])\n",
        "        signature_matrix[1, 0] = min(signature_matrix[1, 0], incidence_df.iloc[i]['h2'])\n",
        "    if incidence_df.iloc[i, 2] == 1:  # Document 2\n",
        "        signature_matrix[0, 1] = min(signature_matrix[0, 1], incidence_df.iloc[i]['h1'])\n",
        "        signature_matrix[1, 1] = min(signature_matrix[1, 1], incidence_df.iloc[i]['h2'])\n",
        "    if incidence_df.iloc[i, 3] == 1:  # Document 3\n",
        "        signature_matrix[0, 2] = min(signature_matrix[0, 2], incidence_df.iloc[i]['h1'])\n",
        "        signature_matrix[1, 2] = min(signature_matrix[1, 2], incidence_df.iloc[i]['h2'])\n",
        "print(signature_matrix)\n",
        "\n",
        "signature_df = pd.DataFrame(signature_matrix, index=['h1', 'h2'], columns=[\"Document 1\", \"Document 2\", \"Document 3\"])\n",
        "print(\"\\nsignature_matrix :\\n\")\n",
        "print(signature_df)"
      ]
    },
    {
      "cell_type": "code",
      "execution_count": 1,
      "id": "dea794f1-d812-4033-a7ef-d0b22402fbfa",
      "metadata": {
        "id": "dea794f1-d812-4033-a7ef-d0b22402fbfa",
        "colab": {
          "base_uri": "https://localhost:8080/"
        },
        "outputId": "76067b67-d0b8-4cbf-a615-84f698f55214"
      },
      "outputs": [
        {
          "output_type": "stream",
          "name": "stdout",
          "text": [
            "MinHash Signature Matrix:\n",
            "[[1. 3. 0. 1.]\n",
            " [0. 2. 0. 0.]\n",
            " [1. 4. 0. 1.]]\n"
          ]
        }
      ],
      "source": [
        "\n",
        "import numpy as np\n",
        "\n",
        "# Define the input matrix\n",
        "matrix = np.array([\n",
        "    (1, 0, 0, 1, 0),  # Set 1\n",
        "    (0, 0, 1, 0, 0),  # Set 2\n",
        "    (0, 1, 0, 1, 1),  # Set 3\n",
        "    (1, 0, 1, 1, 0)   # Set 4\n",
        "])\n",
        "\n",
        "# Define the hash functions\n",
        "def h1(x):\n",
        "    return (x + 1) % 5\n",
        "\n",
        "def h2(x):\n",
        "    return (3 * x + 1) % 5\n",
        "\n",
        "def h3(x):\n",
        "    return (4 * x + 1) % 5\n",
        "\n",
        "# List of hash functions\n",
        "hash_functions = [h1, h2, h3]\n",
        "\n",
        "# Initialize the signature matrix with infinity\n",
        "num_hashes = len(hash_functions)\n",
        "num_sets, num_elements = matrix.shape\n",
        "signature_matrix = np.full((num_hashes, num_sets), np.inf)\n",
        "\n",
        "# Compute the MinHash signatures\n",
        "for i in range(num_elements):\n",
        "    if any(matrix[:, i]):  # If the column has a '1'\n",
        "        for h in range(num_hashes):\n",
        "            hash_value = hash_functions[h](i)\n",
        "            for s in range(num_sets):\n",
        "                if matrix[s, i] == 1:\n",
        "                    signature_matrix[h, s] = min(signature_matrix[h, s], hash_value)\n",
        "\n",
        "# Print the signature matrix\n",
        "print(\"MinHash Signature Matrix:\")\n",
        "print(signature_matrix)"
      ]
    },
    {
      "cell_type": "code",
      "source": [
        "import pandas as pd\n",
        "import numpy as np\n",
        "import random\n",
        "# with open(\"1.txt\", \"r\") as file:\n",
        "#   doc1 = file.read()\n",
        "# print(doc1)\n",
        "# with open(\"2.txt\", \"r\") as file:\n",
        "#   doc2 = file.read()\n",
        "# print(doc2)\n",
        "# Example documents\n",
        "doc1 = \"Data Science and Big Data Analytics\"\n",
        "doc2 = \"Big Data and Data Science\"\n",
        "doc3 = \"Machine Learning and AI are transforming industries\"\n",
        "doc4 = \"Artificial Intelligence in Healthcare\"\n",
        "kval =3\n",
        "shingle1 = shinglewithoutsepr(doc1, kval)\n",
        "shingle2 = shinglewithoutsepr(doc2, kval)\n",
        "shingle3 = shinglewithoutsepr(doc3, kval)\n",
        "shingle4 = shinglewithoutsepr(doc4, kval)\n",
        "all_shingles = list(set(shingle1 + shingle2+shingle3+shingle4))\n",
        "print(\"Shingle 1:\", shingle1)\n",
        "print(\"Shingle 2:\", shingle2)\n",
        "print(\"Shingle 3:\", shingle3)\n",
        "print(\"Shingle 4:\", shingle4)\n",
        "print(\"All shingles:\", all_shingles)\n",
        "df = pd.DataFrame(columns=[\"Shingle\", \"doc1\", \"doc2\",\"doc3\",\"doc4\"])\n",
        "df[\"Shingle\"] = all_shingles\n",
        "df.fillna(0, inplace=True)\n",
        "for i in range(len(shingle1)):\n",
        "    df.loc[df[\"Shingle\"] == shingle1[i], \"doc1\"] = 1\n",
        "for i in range(len(shingle2)):\n",
        "    df.loc[df[\"Shingle\"] == shingle2[i], \"doc2\"] = 1\n",
        "for i in range(len(shingle3)):\n",
        "    df.loc[df[\"Shingle\"] == shingle3[i], \"doc3\"] = 1\n",
        "for i in range(len(shingle4)):\n",
        "    df.loc[df[\"Shingle\"] == shingle4[i], \"doc4\"] = 1\n",
        "df[\"Hash1\"] = df.index.map(lambda x: (17 * int(x) + 11) % len(df))\n",
        "df[\"Hash2\"] = df.index.map(lambda x: (7 * int(x) + 11) % len(df))\n",
        "print(len(df))\n",
        "print(df)"
      ],
      "metadata": {
        "colab": {
          "base_uri": "https://localhost:8080/"
        },
        "id": "fePbJuTY9zi_",
        "outputId": "ad8d64e6-ee0d-4179-81a9-f955865b8a68"
      },
      "execution_count": null,
      "outputs": [
        {
          "output_type": "stream",
          "name": "stdout",
          "text": [
            "Shingle 1: ['Dat', 'ata', 'ta ', 'a S', ' Sc', 'Sci', 'cie', 'ien', 'enc', 'nce', 'ce ', 'e a', ' an', 'and', 'nd ', 'd B', ' Bi', 'Big', 'ig ', 'g D', ' Da', 'Dat', 'ata', 'ta ', 'a A', ' An', 'Ana', 'nal', 'aly', 'lyt', 'yti', 'tic', 'ics']\n",
            "Shingle 2: ['Big', 'ig ', 'g D', ' Da', 'Dat', 'ata', 'ta ', 'a a', ' an', 'and', 'nd ', 'd D', ' Da', 'Dat', 'ata', 'ta ', 'a S', ' Sc', 'Sci', 'cie', 'ien', 'enc', 'nce']\n",
            "Shingle 3: ['Mac', 'ach', 'chi', 'hin', 'ine', 'ne ', 'e L', ' Le', 'Lea', 'ear', 'arn', 'rni', 'nin', 'ing', 'ng ', 'g a', ' an', 'and', 'nd ', 'd A', ' AI', 'AI ', 'I a', ' ar', 'are', 're ', 'e t', ' tr', 'tra', 'ran', 'ans', 'nsf', 'sfo', 'for', 'orm', 'rmi', 'min', 'ing', 'ng ', 'g i', ' in', 'ind', 'ndu', 'dus', 'ust', 'str', 'tri', 'rie', 'ies']\n",
            "Shingle 4: ['Art', 'rti', 'tif', 'ifi', 'fic', 'ici', 'cia', 'ial', 'al ', 'l I', ' In', 'Int', 'nte', 'tel', 'ell', 'lli', 'lig', 'ige', 'gen', 'enc', 'nce', 'ce ', 'e i', ' in', 'in ', 'n H', ' He', 'Hea', 'eal', 'alt', 'lth', 'thc', 'hca', 'car', 'are']\n",
            "All shingles: ['hin', 'chi', ' He', 'e i', ' in', ' tr', 'nte', 'yti', 'AI ', 'nsf', 'lli', 'rti', 'and', 'thc', 'lth', 'tic', 'nce', 'e t', 'ach', 'ear', 'd B', 'Mac', 'rni', 'enc', ' Sc', 'tra', 'g i', 'ial', 'a S', 're ', 'ndu', 'al ', 'nin', 'cia', 'ans', 'ust', ' ar', 'ige', 'ies', 'ics', 'min', ' Da', 'dus', 'ta ', 'orm', 'e a', 'ne ', ' AI', 'ata', 'ig ', 'Sci', 'gen', 'Big', 'd A', 'in ', ' In', 'arn', 'for', 'nal', 'a A', 'lig', 'are', 'Lea', 'I a', 'hca', 'rmi', 'ici', 'Ana', 'eal', 'Art', 'tel', 'd D', 'cie', 'str', 'g a', 'g D', 'alt', 'tif', 'ine', ' Le', 'ing', 'ell', 'ng ', 'lyt', 'aly', ' An', ' Bi', ' an', 'tri', 'l I', 'rie', 'sfo', 'ran', 'car', 'Hea', 'ien', 'ind', 'nd ', 'n H', 'Dat', 'ifi', 'fic', 'ce ', 'e L', 'a a', 'Int']\n",
            "106\n",
            "    Shingle  doc1  doc2  doc3  doc4  Hash1  Hash2\n",
            "0       hin     0     0     1     0     11     11\n",
            "1       chi     0     0     1     0     28     18\n",
            "2        He     0     0     0     1     45     25\n",
            "3       e i     0     0     0     1     62     32\n",
            "4        in     0     0     1     1     79     39\n",
            "..      ...   ...   ...   ...   ...    ...    ...\n",
            "101     fic     0     0     0     1     32     82\n",
            "102     ce      1     0     0     1     49     89\n",
            "103     e L     0     0     1     0     66     96\n",
            "104     a a     0     1     0     0     83    103\n",
            "105     Int     0     0     0     1    100      4\n",
            "\n",
            "[106 rows x 7 columns]\n"
          ]
        }
      ],
      "id": "fePbJuTY9zi_"
    },
    {
      "cell_type": "code",
      "source": [
        "sig = np.full((2,4), np.inf)\n",
        "for index, row in df.iterrows():\n",
        "   if row[\"doc1\"] == 1:\n",
        "       sig[0, 0] = min(sig[0, 0], row[\"Hash1\"])\n",
        "       sig[1, 0] = min(sig[1, 0], row[\"Hash2\"])\n",
        "   if row[\"doc2\"] == 1:\n",
        "       sig[0, 1] = min(sig[0, 1], row[\"Hash1\"])\n",
        "       sig[1, 1] = min(sig[1, 1], row[\"Hash2\"])\n",
        "   if row[\"doc3\"] == 1:\n",
        "       sig[0, 2] = min(sig[0, 2], row[\"Hash1\"])\n",
        "       sig[1, 2] = min(sig[1, 2], row[\"Hash2\"])\n",
        "   if row[\"doc4\"] == 1:\n",
        "       sig[0, 3] = min(sig[0, 3], row[\"Hash1\"])\n",
        "       sig[1, 3] = min(sig[1, 3], row[\"Hash2\"])\n",
        "print(\"Signature matrix =\\n\",sig)"
      ],
      "metadata": {
        "colab": {
          "base_uri": "https://localhost:8080/"
        },
        "id": "BYsODWLt938p",
        "outputId": "aba12e64-6f3b-42c1-ee1c-c65f51532bb4"
      },
      "execution_count": null,
      "outputs": [
        {
          "output_type": "stream",
          "name": "stdout",
          "text": [
            "Signature matrix =\n",
            " [[0. 0. 3. 1.]\n",
            " [0. 6. 1. 3.]]\n"
          ]
        }
      ],
      "id": "BYsODWLt938p"
    }
  ],
  "metadata": {
    "kernelspec": {
      "display_name": "Python 3 (ipykernel)",
      "language": "python",
      "name": "python3"
    },
    "language_info": {
      "codemirror_mode": {
        "name": "ipython",
        "version": 3
      },
      "file_extension": ".py",
      "mimetype": "text/x-python",
      "name": "python",
      "nbconvert_exporter": "python",
      "pygments_lexer": "ipython3",
      "version": "3.11.7"
    },
    "colab": {
      "provenance": []
    }
  },
  "nbformat": 4,
  "nbformat_minor": 5
}