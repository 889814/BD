{
  "nbformat": 4,
  "nbformat_minor": 0,
  "metadata": {
    "colab": {
      "provenance": []
    },
    "kernelspec": {
      "name": "python3",
      "display_name": "Python 3"
    },
    "language_info": {
      "name": "python"
    }
  },
  "cells": [
    {
      "cell_type": "code",
      "execution_count": null,
      "metadata": {
        "colab": {
          "base_uri": "https://localhost:8080/"
        },
        "id": "mttJIoU8RSkA",
        "outputId": "09d31835-34d2-43e3-cf83-98957d6e5ba8"
      },
      "outputs": [
        {
          "output_type": "stream",
          "name": "stdout",
          "text": [
            "Frequent pairs: {(1, 2): 2, (1, 3): 2, (2, 3): 2, (1, 4): 2, (2, 4): 2, (3, 4): 2}\n"
          ]
        }
      ],
      "source": [
        "from collections import defaultdict\n",
        "\n",
        "def get_frequent_itemsets(baskets, support_threshold):\n",
        "    # Pass 1: Count individual items and hash pairs to buckets\n",
        "    item_count = defaultdict(int)\n",
        "    bucket_count = defaultdict(int)\n",
        "\n",
        "    for basket in baskets:\n",
        "        for item in basket:\n",
        "            item_count[item] += 1\n",
        "\n",
        "        # Hash pairs of items to buckets\n",
        "        for i in range(len(basket)):\n",
        "            for j in range(i + 1, len(basket)):\n",
        "                bucket = hash((basket[i], basket[j])) % len(basket)\n",
        "                bucket_count[bucket] += 1\n",
        "\n",
        "    # Pass 1.5: Convert bucket counts to bitmap\n",
        "    bitmap = {}\n",
        "    for bucket in bucket_count:\n",
        "        if bucket_count[bucket] >= support_threshold:\n",
        "            bitmap[bucket] = 1\n",
        "        else:\n",
        "            bitmap[bucket] = 0\n",
        "\n",
        "    # Filter out infrequent items\n",
        "    frequent_items = set()\n",
        "    for item, count in item_count.items():\n",
        "        if count >= support_threshold:\n",
        "            frequent_items.add(item)\n",
        "\n",
        "    # Pass 2: Count frequent pairs\n",
        "    pair_count = defaultdict(int)\n",
        "    for basket in baskets:\n",
        "        for i in range(len(basket)):\n",
        "            for j in range(i + 1, len(basket)):\n",
        "                if (basket[i] in frequent_items and basket[j] in frequent_items):\n",
        "                    bucket = hash((basket[i], basket[j])) % len(basket)\n",
        "                    if bitmap[bucket] == 1:\n",
        "                        pair = tuple(sorted((basket[i], basket[j])))\n",
        "                        pair_count[pair] += 1\n",
        "\n",
        "    # Filter out infrequent pairs\n",
        "    frequent_pairs = {pair: count for pair, count in pair_count.items() if count >= support_threshold}\n",
        "\n",
        "    return frequent_pairs\n",
        "\n",
        "# Example usage:\n",
        "baskets = [\n",
        "    [1, 2, 3],\n",
        "    [1, 2, 4],\n",
        "    [1, 3, 4],\n",
        "    [2, 3],\n",
        "    [2, 4],\n",
        "    [3, 4]\n",
        "]\n",
        "support_threshold = 2\n",
        "\n",
        "frequent_pairs = get_frequent_itemsets(baskets, support_threshold)\n",
        "print(f\"Frequent pairs: {frequent_pairs}\")"
      ]
    },
    {
      "cell_type": "code",
      "source": [
        "import pandas as pd\n",
        "\n",
        "# Load the dataset from the uploaded CSV file\n",
        "file_path = '/content/Datasetcutted.csv'\n",
        "dataset = pd.read_csv(file_path)\n",
        "\n",
        "# Display the first few rows of the dataset to understand its structure\n",
        "dataset.head(), dataset.columns\n",
        "\n",
        "\n",
        "import numpy as np\n",
        "from collections import defaultdict\n",
        "\n",
        "def pcy_algorithm(data, support_threshold):\n",
        "    \"\"\"\n",
        "    PCY Algorithm for Frequent Pattern Mining\n",
        "    Args:\n",
        "    data: Pandas DataFrame containing binary data for items\n",
        "    support_threshold: Minimum support threshold for an itemset to be considered frequent\n",
        "\n",
        "    Returns:\n",
        "    frequent_itemsets: List of tuples representing frequent itemsets\n",
        "    \"\"\"\n",
        "    # First pass: Count item frequencies and hash bucket counts\n",
        "    item_counts = defaultdict(int)\n",
        "    bucket_counts = defaultdict(int)\n",
        "    num_buckets = len(data.columns)\n",
        "\n",
        "    for _, transaction in data.iterrows():\n",
        "        items = np.where(transaction == 1)[0]\n",
        "        # Count single items\n",
        "        for item in items:\n",
        "            item_counts[item] += 1\n",
        "\n",
        "        # Count pairs using hash buckets\n",
        "        for i in range(len(items)):\n",
        "            for j in range(i + 1, len(items)):\n",
        "                pair = (items[i], items[j])\n",
        "                bucket = hash(pair) % num_buckets\n",
        "                bucket_counts[bucket] += 1\n",
        "\n",
        "    # Determine frequent items and bitmap for frequent buckets\n",
        "    frequent_items = {item for item, count in item_counts.items() if count >= support_threshold}\n",
        "    bitmap = {bucket: (count >= support_threshold) for bucket, count in bucket_counts.items()}\n",
        "\n",
        "    # Second pass: Identify frequent item pairs\n",
        "    candidate_pairs = defaultdict(int)\n",
        "    for _, transaction in data.iterrows():\n",
        "        items = [item for item in np.where(transaction == 1)[0] if item in frequent_items]\n",
        "\n",
        "        for i in range(len(items)):\n",
        "            for j in range(i + 1, len(items)):\n",
        "                pair = (items[i], items[j])\n",
        "                bucket = hash(pair) % num_buckets\n",
        "                if bitmap[bucket]:\n",
        "                    candidate_pairs[pair] += 1\n",
        "\n",
        "    # Filter to retain only frequent pairs\n",
        "    frequent_itemsets = [(pair, count) for pair, count in candidate_pairs.items() if count >= support_threshold]\n",
        "\n",
        "    return frequent_itemsets\n",
        "\n",
        "# Set a support threshold\n",
        "support_threshold = 2\n",
        "\n",
        "# Run the PCY algorithm on the dataset\n",
        "frequent_itemsets = pcy_algorithm(dataset, support_threshold)\n",
        "\n",
        "frequent_itemsets[:10]  # Display the first 10 frequent itemsets for brevity"
      ],
      "metadata": {
        "colab": {
          "base_uri": "https://localhost:8080/"
        },
        "id": "ORz5K5LWRzK3",
        "outputId": "cdb0fdf6-b7f1-4243-eb21-0bbbc45a3798"
      },
      "execution_count": null,
      "outputs": [
        {
          "output_type": "execute_result",
          "data": {
            "text/plain": [
              "[((13, 16), 4),\n",
              " ((11, 13), 2),\n",
              " ((2, 10), 2),\n",
              " ((13, 17), 2),\n",
              " ((7, 15), 2),\n",
              " ((12, 13), 4),\n",
              " ((9, 10), 3),\n",
              " ((9, 15), 2),\n",
              " ((10, 15), 2),\n",
              " ((11, 15), 2)]"
            ]
          },
          "metadata": {},
          "execution_count": 6
        }
      ]
    }
  ]
}