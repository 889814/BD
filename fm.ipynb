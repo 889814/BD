{
 "cells": [
  {
   "cell_type": "code",
   "execution_count": 13,
   "id": "b0378996-390a-41e8-b831-211aada961fd",
   "metadata": {},
   "outputs": [],
   "source": [
    "import  numpy as np\n",
    "\n",
    "def hash_fun(a,x,b,c):\n",
    "    return (a*x + b)%c\n",
    "\n",
    "def to_binary(x, size):\n",
    "    return format(x, f'0{size}b')\n",
    "\n",
    "def no_of_trailing_zeros(x):\n",
    "    return len(x) - len(x.rstrip('0'))"
   ]
  },
  {
   "cell_type": "code",
   "execution_count": 14,
   "id": "49114924-3a58-444b-9d25-e7d3b139296e",
   "metadata": {},
   "outputs": [
    {
     "name": "stdin",
     "output_type": "stream",
     "text": [
      "Enter the number of elements: 6\n",
      "Enter the element 3\n",
      "Enter the element 1\n",
      "Enter the element 4\n",
      "Enter the element 3\n",
      "Enter the element 7\n",
      "Enter the element 8\n"
     ]
    },
    {
     "name": "stdout",
     "output_type": "stream",
     "text": [
      "Elements are: [3, 1, 4, 3, 7, 8]\n"
     ]
    }
   ],
   "source": [
    "number_of_elements = int(input(\"Enter the number of elements:\"))\n",
    "elements_list = []\n",
    "for i in range(number_of_elements):\n",
    "    elements_list.append(int(input(\"Enter the element\")))\n",
    "print(\"Elements are:\", elements_list)"
   ]
  },
  {
   "cell_type": "code",
   "execution_count": 32,
   "id": "aed2098d-a5c2-4cfd-a994-7e355d0eeed3",
   "metadata": {},
   "outputs": [
    {
     "name": "stdout",
     "output_type": "stream",
     "text": [
      "3 16 10000 4 16\n",
      "1 10 01010 1 2\n",
      "4 19 10011 0 1\n",
      "3 16 10000 4 16\n",
      "7 28 11100 2 4\n",
      "8 31 11111 0 1\n"
     ]
    },
    {
     "ename": "TypeError",
     "evalue": "'>' not supported between instances of 'list' and 'int'",
     "output_type": "error",
     "traceback": [
      "\u001b[1;31m---------------------------------------------------------------------------\u001b[0m",
      "\u001b[1;31mTypeError\u001b[0m                                 Traceback (most recent call last)",
      "Cell \u001b[1;32mIn[32], line 10\u001b[0m\n\u001b[0;32m      7\u001b[0m     R_1_values\u001b[38;5;241m.\u001b[39mappend(R_1)\n\u001b[0;32m      8\u001b[0m     \u001b[38;5;28mprint\u001b[39m(i, h1, binary1, r_for_1, R_1)\n\u001b[1;32m---> 10\u001b[0m R1 \u001b[38;5;241m=\u001b[39m \u001b[38;5;28mmax\u001b[39m(\u001b[38;5;241m0\u001b[39m, R_1_values)\n\u001b[0;32m     11\u001b[0m \u001b[38;5;28mprint\u001b[39m(\u001b[38;5;124m\"\u001b[39m\u001b[38;5;130;01m\\n\u001b[39;00m\u001b[38;5;124mR1=\u001b[39m\u001b[38;5;124m\"\u001b[39m,R1)\n\u001b[0;32m     15\u001b[0m \u001b[38;5;28mprint\u001b[39m(\u001b[38;5;124m\"\u001b[39m\u001b[38;5;130;01m\\n\u001b[39;00m\u001b[38;5;124m\"\u001b[39m)\n",
      "\u001b[1;31mTypeError\u001b[0m: '>' not supported between instances of 'list' and 'int'"
     ]
    }
   ],
   "source": [
    "R_1_values= []\n",
    "for i in elements_list:\n",
    "    h1 = hash_fun(3, i, 7, 32)\n",
    "    binary1 = to_binary(h1, 5)\n",
    "    r_for_1 = no_of_trailing_zeros(binary1)\n",
    "    R_1 = 2 ** r_for_1\n",
    "    R_1_values.append(R_1)\n",
    "    print(i, h1, binary1, r_for_1, R_1)\n",
    "    \n",
    "R1 = max(R_1_value)\n",
    "print(\"\\nR1=\",R1)\n",
    "\n",
    "\n",
    "\n",
    "print(\"\\n\")\n",
    "\n",
    "for i in elements_list:\n",
    "    h2 = hash_fun(5, i, 11, 32)\n",
    "    binary2 = to_binary(h2, 5)\n",
    "    r_for_2 = no_of_trailing_zeros(binary2)\n",
    "    R2 = 2 ** r_for_2\n",
    "    print(i, h2, binary2, r_for_2, R2)\n"
   ]
  },
  {
   "cell_type": "code",
   "execution_count": 21,
   "id": "c09c14b6-b33c-45fe-91d6-37dde0e3e354",
   "metadata": {},
   "outputs": [
    {
     "name": "stdout",
     "output_type": "stream",
     "text": [
      "r1 =  0\n",
      "R1 =  1\n",
      "r2 =  0\n",
      "R2 =  1\n",
      "The number of distinnct elements is: 1.0\n"
     ]
    }
   ],
   "source": [
    "r1 = max(0, r_for_1)\n",
    "print(\"r1 = \", r1)\n",
    "R1 = 2 ** r1\n",
    "print(\"R1 = \", R1)\n",
    "r2 = max(0, r_for_2)\n",
    "print(\"r2 = \", r2)\n",
    "R2 = 2 ** r2\n",
    "print(\"R2 = \", R2)\n",
    "\n",
    "R = (R1+R2)/2\n",
    "print(\"The number of distinnct elements is:\", R)"
   ]
  },
  {
   "cell_type": "code",
   "execution_count": null,
   "id": "df806fc3-1df1-41d5-a4ed-d3a0a1dd034d",
   "metadata": {},
   "outputs": [],
   "source": []
  },
  {
   "cell_type": "code",
   "execution_count": null,
   "id": "6ba2e3c1-ddaa-4495-9f49-cb409456f47f",
   "metadata": {},
   "outputs": [],
   "source": []
  }
 ],
 "metadata": {
  "kernelspec": {
   "display_name": "Python 3 (ipykernel)",
   "language": "python",
   "name": "python3"
  },
  "language_info": {
   "codemirror_mode": {
    "name": "ipython",
    "version": 3
   },
   "file_extension": ".py",
   "mimetype": "text/x-python",
   "name": "python",
   "nbconvert_exporter": "python",
   "pygments_lexer": "ipython3",
   "version": "3.11.5"
  }
 },
 "nbformat": 4,
 "nbformat_minor": 5
}
